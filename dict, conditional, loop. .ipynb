{
 "cells": [
  {
   "cell_type": "code",
   "execution_count": 3,
   "id": "789646b2-1da4-408a-a60d-d67d268a523f",
   "metadata": {},
   "outputs": [],
   "source": [
    "d =  {}"
   ]
  },
  {
   "cell_type": "code",
   "execution_count": 4,
   "id": "c3fe3e96-f4d3-4f18-8bb9-d60de721e113",
   "metadata": {},
   "outputs": [
    {
     "data": {
      "text/plain": [
       "dict"
      ]
     },
     "execution_count": 4,
     "metadata": {},
     "output_type": "execute_result"
    }
   ],
   "source": [
    "type(d)"
   ]
  },
  {
   "cell_type": "code",
   "execution_count": 5,
   "id": "41e7de12-3cf5-4fd1-88a4-6e230aa89d5d",
   "metadata": {},
   "outputs": [],
   "source": [
    "d1 = {\"keey\" : \"birju\"}"
   ]
  },
  {
   "cell_type": "code",
   "execution_count": 6,
   "id": "801a351c-5350-4420-8269-0eca41d1e0b4",
   "metadata": {},
   "outputs": [
    {
     "data": {
      "text/plain": [
       "{'keey': 'birju'}"
      ]
     },
     "execution_count": 6,
     "metadata": {},
     "output_type": "execute_result"
    }
   ],
   "source": [
    "d1"
   ]
  },
  {
   "cell_type": "code",
   "execution_count": 7,
   "id": "0632ced1-75ae-421a-91ee-6b06dbd85056",
   "metadata": {},
   "outputs": [],
   "source": [
    "d2 = {\"name\" : \"birju\", \"surname\" : \"barot\", \"father name\" : \"Gajendrakumar\"}"
   ]
  },
  {
   "cell_type": "code",
   "execution_count": 8,
   "id": "075db602-91d0-4536-9c51-5897c4302514",
   "metadata": {},
   "outputs": [
    {
     "data": {
      "text/plain": [
       "{'name': 'birju', 'surname': 'barot', 'father name': 'Gajendrakumar'}"
      ]
     },
     "execution_count": 8,
     "metadata": {},
     "output_type": "execute_result"
    }
   ],
   "source": [
    "d2"
   ]
  },
  {
   "cell_type": "code",
   "execution_count": 9,
   "id": "45eea19d-2d00-467d-915a-c622807be45d",
   "metadata": {},
   "outputs": [],
   "source": [
    "d3  =  {234 : \"yahooo\" , '_wer' : \"ashish\"}"
   ]
  },
  {
   "cell_type": "code",
   "execution_count": 10,
   "id": "ddba1532-dd83-43d2-9f27-3e3adf3006b6",
   "metadata": {},
   "outputs": [
    {
     "data": {
      "text/plain": [
       "{234: 'yahooo', '_wer': 'ashish'}"
      ]
     },
     "execution_count": 10,
     "metadata": {},
     "output_type": "execute_result"
    }
   ],
   "source": [
    "d3 "
   ]
  },
  {
   "cell_type": "code",
   "execution_count": 11,
   "id": "5b43e7e5-44d5-49a5-8f68-b33179202d26",
   "metadata": {},
   "outputs": [],
   "source": [
    "d4 = {'name' :'biirju', 'mail_id' : 'birju7777@gmail.com', \"name\" : \"birjubarot\"}"
   ]
  },
  {
   "cell_type": "code",
   "execution_count": 12,
   "id": "2e6199c4-bccc-427b-afd9-9e528cd3a96f",
   "metadata": {},
   "outputs": [
    {
     "data": {
      "text/plain": [
       "{'name': 'birjubarot', 'mail_id': 'birju7777@gmail.com'}"
      ]
     },
     "execution_count": 12,
     "metadata": {},
     "output_type": "execute_result"
    }
   ],
   "source": [
    "d4"
   ]
  },
  {
   "cell_type": "code",
   "execution_count": 13,
   "id": "e6c26502-3245-4d07-81e4-a8943ffd84e5",
   "metadata": {},
   "outputs": [],
   "source": [
    "d5 = {'company' : 'shanti construction' ,  'partner' : ['birju', 'Gajendrabhai', 'Ashish']}"
   ]
  },
  {
   "cell_type": "code",
   "execution_count": 14,
   "id": "d2e44d97-7dd2-4283-b49a-970087bbb190",
   "metadata": {},
   "outputs": [
    {
     "data": {
      "text/plain": [
       "{'company': 'shanti construction',\n",
       " 'partner': ['birju', 'Gajendrabhai', 'Ashish']}"
      ]
     },
     "execution_count": 14,
     "metadata": {},
     "output_type": "execute_result"
    }
   ],
   "source": [
    "d5"
   ]
  },
  {
   "cell_type": "code",
   "execution_count": 15,
   "id": "10106721-da50-4c5e-ad94-364bed9b3bde",
   "metadata": {},
   "outputs": [
    {
     "data": {
      "text/plain": [
       "'Ashish'"
      ]
     },
     "execution_count": 15,
     "metadata": {},
     "output_type": "execute_result"
    }
   ],
   "source": [
    "d5['partner'][2]"
   ]
  },
  {
   "cell_type": "code",
   "execution_count": 16,
   "id": "792ca2c3-98d6-40a5-8785-46b60c6e7e36",
   "metadata": {},
   "outputs": [],
   "source": [
    "d6  = {'number' :  [1,2,3,4,5,6,7,8,9,10,11,12,13,14,15,16,17,18,19,20] , \"assignnment\" : (2,3,6,9,), 'Launch_date' :  '23,5,7' , 'class_time' : {'science' : 8, \"gujarati\"  : 9}}  "
   ]
  },
  {
   "cell_type": "code",
   "execution_count": 17,
   "id": "0421b5e2-2388-4329-85be-00e318e2421b",
   "metadata": {},
   "outputs": [
    {
     "data": {
      "text/plain": [
       "{'number': [1,\n",
       "  2,\n",
       "  3,\n",
       "  4,\n",
       "  5,\n",
       "  6,\n",
       "  7,\n",
       "  8,\n",
       "  9,\n",
       "  10,\n",
       "  11,\n",
       "  12,\n",
       "  13,\n",
       "  14,\n",
       "  15,\n",
       "  16,\n",
       "  17,\n",
       "  18,\n",
       "  19,\n",
       "  20],\n",
       " 'assignnment': (2, 3, 6, 9),\n",
       " 'Launch_date': '23,5,7',\n",
       " 'class_time': {'science': 8, 'gujarati': 9}}"
      ]
     },
     "execution_count": 17,
     "metadata": {},
     "output_type": "execute_result"
    }
   ],
   "source": [
    "d6"
   ]
  },
  {
   "cell_type": "code",
   "execution_count": 18,
   "id": "0bb48a7a-949a-402b-b469-7d80840a568e",
   "metadata": {},
   "outputs": [
    {
     "data": {
      "text/plain": [
       "9"
      ]
     },
     "execution_count": 18,
     "metadata": {},
     "output_type": "execute_result"
    }
   ],
   "source": [
    "d6['class_time']['gujarati']"
   ]
  },
  {
   "cell_type": "code",
   "execution_count": 19,
   "id": "e1a55331-43fe-4b43-9743-4c76f7fe8d4f",
   "metadata": {},
   "outputs": [],
   "source": [
    "d6['mentor'] = ['birju', 'pratik', 'raam']"
   ]
  },
  {
   "cell_type": "code",
   "execution_count": 20,
   "id": "76bb047b-52b9-4103-9156-03e5f49b1a3f",
   "metadata": {},
   "outputs": [
    {
     "data": {
      "text/plain": [
       "{'number': [1,\n",
       "  2,\n",
       "  3,\n",
       "  4,\n",
       "  5,\n",
       "  6,\n",
       "  7,\n",
       "  8,\n",
       "  9,\n",
       "  10,\n",
       "  11,\n",
       "  12,\n",
       "  13,\n",
       "  14,\n",
       "  15,\n",
       "  16,\n",
       "  17,\n",
       "  18,\n",
       "  19,\n",
       "  20],\n",
       " 'assignnment': (2, 3, 6, 9),\n",
       " 'Launch_date': '23,5,7',\n",
       " 'class_time': {'science': 8, 'gujarati': 9},\n",
       " 'mentor': ['birju', 'pratik', 'raam']}"
      ]
     },
     "execution_count": 20,
     "metadata": {},
     "output_type": "execute_result"
    }
   ],
   "source": [
    "d6"
   ]
  },
  {
   "cell_type": "code",
   "execution_count": 21,
   "id": "de42a115-fd09-449c-b895-9ad52ae0a22d",
   "metadata": {},
   "outputs": [],
   "source": [
    "del d6['number']"
   ]
  },
  {
   "cell_type": "code",
   "execution_count": 22,
   "id": "de184729-94fc-4474-8757-4cd68c60cb32",
   "metadata": {},
   "outputs": [
    {
     "data": {
      "text/plain": [
       "{'assignnment': (2, 3, 6, 9),\n",
       " 'Launch_date': '23,5,7',\n",
       " 'class_time': {'science': 8, 'gujarati': 9},\n",
       " 'mentor': ['birju', 'pratik', 'raam']}"
      ]
     },
     "execution_count": 22,
     "metadata": {},
     "output_type": "execute_result"
    }
   ],
   "source": [
    "d6"
   ]
  },
  {
   "cell_type": "code",
   "execution_count": 23,
   "id": "32f5f747-4ee2-48b3-acc5-b683e2b2e4be",
   "metadata": {},
   "outputs": [
    {
     "data": {
      "text/plain": [
       "['assignnment', 'Launch_date', 'class_time', 'mentor']"
      ]
     },
     "execution_count": 23,
     "metadata": {},
     "output_type": "execute_result"
    }
   ],
   "source": [
    "list(d6.keys())"
   ]
  },
  {
   "cell_type": "code",
   "execution_count": 24,
   "id": "3f47545f-52bc-4360-96af-cf5e61ded12f",
   "metadata": {},
   "outputs": [
    {
     "data": {
      "text/plain": [
       "{'assignnment': (2, 3, 6, 9),\n",
       " 'Launch_date': '23,5,7',\n",
       " 'class_time': {'science': 8, 'gujarati': 9},\n",
       " 'mentor': ['birju', 'pratik', 'raam']}"
      ]
     },
     "execution_count": 24,
     "metadata": {},
     "output_type": "execute_result"
    }
   ],
   "source": [
    "d6"
   ]
  },
  {
   "cell_type": "code",
   "execution_count": 25,
   "id": "d19b1447-b63c-45e8-a87a-d26199d26503",
   "metadata": {},
   "outputs": [
    {
     "data": {
      "text/plain": [
       "[(2, 3, 6, 9),\n",
       " '23,5,7',\n",
       " {'science': 8, 'gujarati': 9},\n",
       " ['birju', 'pratik', 'raam']]"
      ]
     },
     "execution_count": 25,
     "metadata": {},
     "output_type": "execute_result"
    }
   ],
   "source": [
    "list(d6.values())"
   ]
  },
  {
   "cell_type": "code",
   "execution_count": 26,
   "id": "7669ceef-a727-497e-abef-bea98a4305a4",
   "metadata": {},
   "outputs": [
    {
     "data": {
      "text/plain": [
       "[('assignnment', (2, 3, 6, 9)),\n",
       " ('Launch_date', '23,5,7'),\n",
       " ('class_time', {'science': 8, 'gujarati': 9}),\n",
       " ('mentor', ['birju', 'pratik', 'raam'])]"
      ]
     },
     "execution_count": 26,
     "metadata": {},
     "output_type": "execute_result"
    }
   ],
   "source": [
    "list(d6.items())"
   ]
  },
  {
   "cell_type": "code",
   "execution_count": 27,
   "id": "624a1ffa-9c20-46ae-8190-545e6a3ab3da",
   "metadata": {},
   "outputs": [
    {
     "data": {
      "text/plain": [
       "['birju', 'pratik', 'raam']"
      ]
     },
     "execution_count": 27,
     "metadata": {},
     "output_type": "execute_result"
    }
   ],
   "source": [
    "d6.pop('mentor')"
   ]
  },
  {
   "cell_type": "code",
   "execution_count": 28,
   "id": "2749bc31-94cc-409f-84b7-061c7db57c66",
   "metadata": {},
   "outputs": [
    {
     "data": {
      "text/plain": [
       "(2, 3, 6, 9)"
      ]
     },
     "execution_count": 28,
     "metadata": {},
     "output_type": "execute_result"
    }
   ],
   "source": [
    "d6.pop('assignnment')"
   ]
  },
  {
   "cell_type": "code",
   "execution_count": 29,
   "id": "4c0e8421-3e29-4364-b355-a583b19ad5ec",
   "metadata": {},
   "outputs": [
    {
     "name": "stdin",
     "output_type": "stream",
     "text": [
      "entre your marks 45\n"
     ]
    },
    {
     "name": "stdout",
     "output_type": "stream",
     "text": [
      "A2 BATCH\n"
     ]
    }
   ],
   "source": [
    "marks =  int(input('entre your marks'))\n",
    "if marks >= 80:\n",
    "    print('AO BATCH')\n",
    "elif marks >= 60 and marks <80:\n",
    "    print('A1 BATCH')\n",
    "elif marks >= 40 and  marks <60:\n",
    "     print('A2 BATCH')\n",
    "else :\n",
    "    print('A3 BATCH')\n",
    "    "
   ]
  },
  {
   "cell_type": "code",
   "execution_count": 30,
   "id": "7b553c62-4608-4518-b1fb-5bfd923a7a63",
   "metadata": {},
   "outputs": [
    {
     "data": {
      "text/plain": [
       "True"
      ]
     },
     "execution_count": 30,
     "metadata": {},
     "output_type": "execute_result"
    }
   ],
   "source": [
    "85 >= 80"
   ]
  },
  {
   "cell_type": "code",
   "execution_count": 31,
   "id": "934c02ff-e243-481b-91ed-8bc7a255d886",
   "metadata": {},
   "outputs": [
    {
     "name": "stdin",
     "output_type": "stream",
     "text": [
      "entre your marks 56\n"
     ]
    }
   ],
   "source": [
    "marks =  int(input('entre your marks'))"
   ]
  },
  {
   "cell_type": "code",
   "execution_count": 32,
   "id": "9a3b11f8-4095-45b2-9f95-987acf9cd1df",
   "metadata": {},
   "outputs": [
    {
     "data": {
      "text/plain": [
       "56"
      ]
     },
     "execution_count": 32,
     "metadata": {},
     "output_type": "execute_result"
    }
   ],
   "source": [
    "marks\n"
   ]
  },
  {
   "cell_type": "code",
   "execution_count": 33,
   "id": "46203d01-6aad-4f14-a7f3-1e4473275ec0",
   "metadata": {},
   "outputs": [
    {
     "data": {
      "text/plain": [
       "int"
      ]
     },
     "execution_count": 33,
     "metadata": {},
     "output_type": "execute_result"
    }
   ],
   "source": [
    "type(marks)"
   ]
  },
  {
   "cell_type": "code",
   "execution_count": 34,
   "id": "e46bd385-8008-48c1-ac86-3759da1db0f6",
   "metadata": {},
   "outputs": [
    {
     "name": "stdin",
     "output_type": "stream",
     "text": [
      "entre price 88\n"
     ]
    },
    {
     "name": "stdout",
     "output_type": "stream",
     "text": [
      "I WILL PURCHASE\n"
     ]
    }
   ],
   "source": [
    "price =  int(input('entre price'))\n",
    "if price > 1000 :\n",
    "    print('I WILL NOT PURCHASE')\n",
    "else :\n",
    "    \n",
    "    print('I WILL PURCHASE')\n",
    "    \n"
   ]
  },
  {
   "cell_type": "code",
   "execution_count": 35,
   "id": "427e986c-b6b5-43bc-93b6-653e16f794dc",
   "metadata": {},
   "outputs": [
    {
     "name": "stdin",
     "output_type": "stream",
     "text": [
      "entre price 5555\n"
     ]
    },
    {
     "name": "stdout",
     "output_type": "stream",
     "text": [
      "I WILL NOT PURCHASE\n"
     ]
    }
   ],
   "source": [
    "price =  int(input('entre price'))\n",
    "if price > 1000 :\n",
    "    print('I WILL NOT PURCHASE')\n",
    "else :\n",
    "    \n",
    "    print('I WILL PURCHASE')\n",
    "    "
   ]
  },
  {
   "cell_type": "code",
   "execution_count": 36,
   "id": "165a97fd-901c-46fb-9eb5-4cc992028a24",
   "metadata": {},
   "outputs": [
    {
     "name": "stdin",
     "output_type": "stream",
     "text": [
      "entre price 4444\n"
     ]
    },
    {
     "name": "stdout",
     "output_type": "stream",
     "text": [
      "I WILL NOT PURCHASE\n"
     ]
    }
   ],
   "source": [
    "price =  int(input('entre price'))\n",
    "if price > 1000 :\n",
    "    print('I WILL NOT PURCHASE')    "
   ]
  },
  {
   "cell_type": "code",
   "execution_count": 37,
   "id": "5cc916fc-e3e0-4803-888b-500c8da10e40",
   "metadata": {},
   "outputs": [
    {
     "name": "stdin",
     "output_type": "stream",
     "text": [
      "entre price 9854\n"
     ]
    },
    {
     "name": "stdout",
     "output_type": "stream",
     "text": [
      "I WILL NOT PURCHASE\n"
     ]
    }
   ],
   "source": [
    "price =  int(input('entre price'))\n",
    "if price > 1000 :\n",
    "    print('I WILL NOT PURCHASE')   "
   ]
  },
  {
   "cell_type": "code",
   "execution_count": 38,
   "id": "73bbe61e-3e5c-4a11-874c-111c8f0acf13",
   "metadata": {},
   "outputs": [
    {
     "name": "stdin",
     "output_type": "stream",
     "text": [
      "entre price 8745\n"
     ]
    },
    {
     "name": "stdout",
     "output_type": "stream",
     "text": [
      "I WILL NOT PURCHASE\n",
      "this is too much\n"
     ]
    }
   ],
   "source": [
    "price =  int(input('entre price'))\n",
    "if price > 1000 :\n",
    "    print('I WILL NOT PURCHASE')\n",
    "    if price > 5000 :\n",
    "        print ('this is too much')\n",
    "    elif price  < 2000 :\n",
    "        print('its ok')\n",
    "elif price < 1000 :\n",
    "    print('I WILL PURCHASE')\n",
    "    print('I WILL NOT PURCHASE')\n",
    "    if price > 5000 :\n",
    "        print ('this is too much')\n",
    "    elif price  < 2000 :\n",
    "        print('its ok')\n",
    "else :\n",
    "    print('not interested')\n",
    "    print('I WILL NOT PURCHASE')\n",
    "    if price > 5000 :\n",
    "        print ('this is too much')\n",
    "    elif price  < 2000 :\n",
    "        print('its ok')"
   ]
  },
  {
   "cell_type": "code",
   "execution_count": 39,
   "id": "089170c8-ba95-4b07-9cc4-41c9e4c30692",
   "metadata": {},
   "outputs": [],
   "source": [
    "l = [1,2,3,4,5,6,7,8,9]"
   ]
  },
  {
   "cell_type": "code",
   "execution_count": 40,
   "id": "b5ba3af1-87ba-485d-a2b7-e6183f0173fe",
   "metadata": {},
   "outputs": [
    {
     "data": {
      "text/plain": [
       "2"
      ]
     },
     "execution_count": 40,
     "metadata": {},
     "output_type": "execute_result"
    }
   ],
   "source": [
    "l[0] + 1"
   ]
  },
  {
   "cell_type": "code",
   "execution_count": 41,
   "id": "9a4db4d8-65cf-4733-8406-5b52e60e58c4",
   "metadata": {},
   "outputs": [],
   "source": [
    "l1=[]"
   ]
  },
  {
   "cell_type": "code",
   "execution_count": 42,
   "id": "ac3a0d91-4593-48fa-be33-32b757da9bc0",
   "metadata": {},
   "outputs": [],
   "source": [
    "l1.append(l[0]+1)"
   ]
  },
  {
   "cell_type": "code",
   "execution_count": 43,
   "id": "d90bca97-42ab-4afd-bbd7-61c5690f2522",
   "metadata": {},
   "outputs": [],
   "source": [
    "l = [1,2,3,4,5,6,7,8,9]"
   ]
  },
  {
   "cell_type": "code",
   "execution_count": 44,
   "id": "2fc1f041-3454-4eaa-8e0a-6042c8f9ef75",
   "metadata": {},
   "outputs": [
    {
     "name": "stdout",
     "output_type": "stream",
     "text": [
      "2\n",
      "3\n",
      "4\n",
      "5\n",
      "6\n",
      "7\n",
      "8\n",
      "9\n",
      "10\n"
     ]
    }
   ],
   "source": [
    "for i in  l : \n",
    "    print(i+1)"
   ]
  },
  {
   "cell_type": "code",
   "execution_count": 45,
   "id": "84b58267-cacd-43ab-82e8-ef5bc9796f2b",
   "metadata": {},
   "outputs": [
    {
     "data": {
      "text/plain": [
       "[1, 2, 3, 4, 5, 6, 7, 8, 9]"
      ]
     },
     "execution_count": 45,
     "metadata": {},
     "output_type": "execute_result"
    }
   ],
   "source": [
    "l"
   ]
  },
  {
   "cell_type": "code",
   "execution_count": 46,
   "id": "b121a1e7-3ec3-4039-ac5d-1546a4625c97",
   "metadata": {},
   "outputs": [
    {
     "data": {
      "text/plain": [
       "[2]"
      ]
     },
     "execution_count": 46,
     "metadata": {},
     "output_type": "execute_result"
    }
   ],
   "source": [
    "l1"
   ]
  },
  {
   "cell_type": "code",
   "execution_count": 47,
   "id": "aa996443-a242-4534-8059-8366106f0175",
   "metadata": {},
   "outputs": [],
   "source": [
    "l = ['birju', 'ashish', 'dwarkesh', 'hmm']"
   ]
  },
  {
   "cell_type": "code",
   "execution_count": 48,
   "id": "cb6b5491-36a1-4d2d-9ac9-be9c57adbaa6",
   "metadata": {},
   "outputs": [
    {
     "name": "stdout",
     "output_type": "stream",
     "text": [
      "birju\n",
      "ashish\n",
      "dwarkesh\n",
      "hmm\n"
     ]
    }
   ],
   "source": [
    "l1 = []\n",
    "for i in l :\n",
    "    print(i)\n",
    "    l1.append(i.upper())"
   ]
  },
  {
   "cell_type": "code",
   "execution_count": 49,
   "id": "8106210d-1e45-4ea4-8b17-ed3bdfa880b9",
   "metadata": {},
   "outputs": [
    {
     "data": {
      "text/plain": [
       "['BIRJU', 'ASHISH', 'DWARKESH', 'HMM']"
      ]
     },
     "execution_count": 49,
     "metadata": {},
     "output_type": "execute_result"
    }
   ],
   "source": [
    "l1"
   ]
  },
  {
   "cell_type": "code",
   "execution_count": 50,
   "id": "38bc952b-c49b-4767-8df2-d9629a3e101f",
   "metadata": {},
   "outputs": [],
   "source": [
    "l = ['birju',  'barot', 45,67,34,78,'maulik', 23.34, 54.67, 21.67]"
   ]
  },
  {
   "cell_type": "code",
   "execution_count": 51,
   "id": "60c973d2-b287-4ce3-8998-2454c7903914",
   "metadata": {},
   "outputs": [],
   "source": [
    "l1_num = []\n",
    "l2_str = []\n",
    "for i in l :\n",
    "    if type(i) == int or type(i) == float :\n",
    "        l1_num.append(i)\n",
    "    else :\n",
    "        l2_str.append(i)\n"
   ]
  },
  {
   "cell_type": "code",
   "execution_count": 52,
   "id": "6150df82-1a9f-4428-aa90-f9fa9485b2f0",
   "metadata": {},
   "outputs": [
    {
     "data": {
      "text/plain": [
       "[45, 67, 34, 78, 23.34, 54.67, 21.67]"
      ]
     },
     "execution_count": 52,
     "metadata": {},
     "output_type": "execute_result"
    }
   ],
   "source": [
    "l1_num"
   ]
  },
  {
   "cell_type": "code",
   "execution_count": 53,
   "id": "4b7161fa-7bda-4c17-be65-fb98d13cc977",
   "metadata": {},
   "outputs": [
    {
     "data": {
      "text/plain": [
       "['birju', 'barot', 'maulik']"
      ]
     },
     "execution_count": 53,
     "metadata": {},
     "output_type": "execute_result"
    }
   ],
   "source": [
    "l2_str"
   ]
  },
  {
   "cell_type": "code",
   "execution_count": null,
   "id": "958b9650-9ede-46cc-8e32-334b1885506c",
   "metadata": {},
   "outputs": [],
   "source": []
  }
 ],
 "metadata": {
  "kernelspec": {
   "display_name": "Python 3 (ipykernel)",
   "language": "python",
   "name": "python3"
  },
  "language_info": {
   "codemirror_mode": {
    "name": "ipython",
    "version": 3
   },
   "file_extension": ".py",
   "mimetype": "text/x-python",
   "name": "python",
   "nbconvert_exporter": "python",
   "pygments_lexer": "ipython3",
   "version": "3.10.8"
  }
 },
 "nbformat": 4,
 "nbformat_minor": 5
}
